{
 "cells": [
  {
   "cell_type": "markdown",
   "id": "0a9c0c3e-7e6d-4d22-9877-3edc489a1888",
   "metadata": {},
   "source": [
    "- create new account \n",
    "- Login\n",
    "    - check balance\n",
    "    - deposit\n",
    "    - withdraw"
   ]
  },
  {
   "cell_type": "code",
   "execution_count": 2,
   "id": "52edadb7-7cec-4929-8c9c-d048ae7d9d05",
   "metadata": {},
   "outputs": [],
   "source": [
    "# configuration\n",
    "bank_name = 'Ethans Bank'\n"
   ]
  },
  {
   "cell_type": "code",
   "execution_count": 9,
   "id": "0496d73a-4ded-42fa-aadd-c37e76a3925d",
   "metadata": {},
   "outputs": [],
   "source": [
    "# Gobal variables\n",
    "width = 40\n",
    "bank_info = {}  # {1 : {'name' : 'Arush','city': 'Pune','balance': 10000},2 : {}}"
   ]
  },
  {
   "cell_type": "code",
   "execution_count": 21,
   "id": "e6031141-30e3-4ed5-a7a4-653d8feb856e",
   "metadata": {},
   "outputs": [],
   "source": [
    "# Messages \n",
    "\n",
    "#Info\n",
    "info_101 = 'New Account created Successfully .'\n",
    "info_102 = \"Login Successfull.\"\n",
    "\n",
    "\n",
    "#Error\n",
    "err_101 = 'ERROR : Invalid Choice !!'\n",
    "err_102 = 'ERROR : Invalid Account number or credentials !!'"
   ]
  },
  {
   "cell_type": "code",
   "execution_count": 32,
   "id": "0115eb22-f860-45eb-9b28-5cad3e9a8dcf",
   "metadata": {},
   "outputs": [],
   "source": [
    "# business logic\n",
    "\n",
    "def print_header():\n",
    "    print('-' * width)\n",
    "    print(bank_name.center(width))\n",
    "    print('-' * width)\n",
    "\n",
    "def first_screen():\n",
    "    print('1) Create a New Account \\n2) Login ')\n",
    "    choice = input('Enter your choice : ')\n",
    "    return choice\n",
    "\n",
    "def get_new_account_number():\n",
    "    return len(bank_info) + 1\n",
    "    \n",
    "def create_new_account():\n",
    "    global bank_info\n",
    "    print_header()\n",
    "    name = input('Enter your name : ')\n",
    "    acc_no = get_new_account_number()\n",
    "    city = input('Enter your City :' )\n",
    "    paswd = input('Enter your Password : ')\n",
    "    bank_info[acc_no] = {'name' : name,'city' : city,'balance' : 0,'paswd':paswd }\n",
    "    print(f'New Account Number - {acc_no}')\n",
    "    print(info_101)\n",
    "\n",
    "def login_user():\n",
    "    print_header()\n",
    "    ano = int(input('Enter your Account Number : '))\n",
    "    paswd = input('Enter your Account Password : ')\n",
    "    if ano in bank_info and bank_info[ano]['paswd'] == paswd :\n",
    "        print(info_102)\n",
    "        return ano\n",
    "    else:\n",
    "        print(err_102)\n",
    "        return False\n",
    "        \n",
    "def check_balance(ano):\n",
    "    bal = bank_info[ano]['balance']\n",
    "    naam = bank_info[ano]['name']\n",
    "    print(f'{naam} your balance is {bal}')\n",
    "\n",
    "def deposit(ano):\n",
    "    amt = int(input('Enter the Amount to Deposit : '))\n",
    "    bank_info[ano]['balance'] = bank_info[ano]['balance'] + amt\n",
    "    print('Money Deposited Successfully.')\n",
    "\n",
    "def withdraw(ano):\n",
    "    amt = int(input('Enter the Amount to Deposit : '))\n",
    "    if amt <= bank_info[ano]['balance'] :\n",
    "        bank_info[ano]['balance'] = bank_info[ano]['balance'] - amt\n",
    "        print('Money withdrawal Successfully.')\n",
    "    else:\n",
    "        print('ERROR : Insufficient Balance in Account')\n",
    "\n",
    "def logged_in_user(ano):\n",
    "    while True:\n",
    "        print_header()\n",
    "        print('1) Check Balance \\n2) Deposit \\n3) Withdraw \\n4) Logout')\n",
    "        ch = input('Enter your choice : ')\n",
    "        if ch == '1':\n",
    "           check_balance(ano)\n",
    "        elif ch =='2':\n",
    "           deposit(ano)\n",
    "        elif ch == '3':\n",
    "            withdraw(ano)\n",
    "        elif ch == '4':\n",
    "            break\n",
    "        else:\n",
    "            print(err_101)"
   ]
  },
  {
   "cell_type": "code",
   "execution_count": 33,
   "id": "6a5312fb-8f3b-4ec0-8d6a-dfa1be701cbb",
   "metadata": {},
   "outputs": [
    {
     "name": "stdout",
     "output_type": "stream",
     "text": [
      "----------------------------------------\n",
      "              Ethans Bank               \n",
      "----------------------------------------\n",
      "1) Create a New Account \n",
      "2) Login \n"
     ]
    },
    {
     "name": "stdin",
     "output_type": "stream",
     "text": [
      "Enter your choice :  2\n"
     ]
    },
    {
     "name": "stdout",
     "output_type": "stream",
     "text": [
      "----------------------------------------\n",
      "              Ethans Bank               \n",
      "----------------------------------------\n"
     ]
    },
    {
     "name": "stdin",
     "output_type": "stream",
     "text": [
      "Enter your Account Number :  3\n",
      "Enter your Account Password :  123\n"
     ]
    },
    {
     "name": "stdout",
     "output_type": "stream",
     "text": [
      "Login Successfull.\n",
      "----------------------------------------\n",
      "              Ethans Bank               \n",
      "----------------------------------------\n",
      "1) Check Balance \n",
      "2) Deposit \n",
      "3) Withdraw \n",
      "4) Logout\n"
     ]
    },
    {
     "name": "stdin",
     "output_type": "stream",
     "text": [
      "Enter your choice :  1\n"
     ]
    },
    {
     "name": "stdout",
     "output_type": "stream",
     "text": [
      "Rebecca your balance is 0\n",
      "----------------------------------------\n",
      "              Ethans Bank               \n",
      "----------------------------------------\n",
      "1) Check Balance \n",
      "2) Deposit \n",
      "3) Withdraw \n",
      "4) Logout\n"
     ]
    },
    {
     "name": "stdin",
     "output_type": "stream",
     "text": [
      "Enter your choice :  2\n",
      "Enter the Amount to Deposit :  1000\n"
     ]
    },
    {
     "name": "stdout",
     "output_type": "stream",
     "text": [
      "Money Deposited Successfully.\n",
      "----------------------------------------\n",
      "              Ethans Bank               \n",
      "----------------------------------------\n",
      "1) Check Balance \n",
      "2) Deposit \n",
      "3) Withdraw \n",
      "4) Logout\n"
     ]
    },
    {
     "name": "stdin",
     "output_type": "stream",
     "text": [
      "Enter your choice :  1\n"
     ]
    },
    {
     "name": "stdout",
     "output_type": "stream",
     "text": [
      "Rebecca your balance is 1000\n",
      "----------------------------------------\n",
      "              Ethans Bank               \n",
      "----------------------------------------\n",
      "1) Check Balance \n",
      "2) Deposit \n",
      "3) Withdraw \n",
      "4) Logout\n"
     ]
    },
    {
     "name": "stdin",
     "output_type": "stream",
     "text": [
      "Enter your choice :  5\n"
     ]
    },
    {
     "name": "stdout",
     "output_type": "stream",
     "text": [
      "ERROR : Invalid Choice !!\n",
      "----------------------------------------\n",
      "              Ethans Bank               \n",
      "----------------------------------------\n",
      "1) Check Balance \n",
      "2) Deposit \n",
      "3) Withdraw \n",
      "4) Logout\n"
     ]
    },
    {
     "name": "stdin",
     "output_type": "stream",
     "text": [
      "Enter your choice :  3\n",
      "Enter the Amount to Deposit :  5000\n"
     ]
    },
    {
     "name": "stdout",
     "output_type": "stream",
     "text": [
      "ERROR : Insufficient Balance in Account\n",
      "----------------------------------------\n",
      "              Ethans Bank               \n",
      "----------------------------------------\n",
      "1) Check Balance \n",
      "2) Deposit \n",
      "3) Withdraw \n",
      "4) Logout\n"
     ]
    },
    {
     "name": "stdin",
     "output_type": "stream",
     "text": [
      "Enter your choice :  3\n",
      "Enter the Amount to Deposit :  700\n"
     ]
    },
    {
     "name": "stdout",
     "output_type": "stream",
     "text": [
      "Money withdrawal Successfully.\n",
      "----------------------------------------\n",
      "              Ethans Bank               \n",
      "----------------------------------------\n",
      "1) Check Balance \n",
      "2) Deposit \n",
      "3) Withdraw \n",
      "4) Logout\n"
     ]
    },
    {
     "name": "stdin",
     "output_type": "stream",
     "text": [
      "Enter your choice :  1\n"
     ]
    },
    {
     "name": "stdout",
     "output_type": "stream",
     "text": [
      "Rebecca your balance is 300\n",
      "----------------------------------------\n",
      "              Ethans Bank               \n",
      "----------------------------------------\n",
      "1) Check Balance \n",
      "2) Deposit \n",
      "3) Withdraw \n",
      "4) Logout\n"
     ]
    },
    {
     "name": "stdin",
     "output_type": "stream",
     "text": [
      "Enter your choice :  4\n"
     ]
    }
   ],
   "source": [
    "# main function\n",
    "def main():\n",
    "    print_header()\n",
    "    ch = first_screen()\n",
    "    if ch == '1' :\n",
    "        create_new_account()\n",
    "    elif ch == '2':\n",
    "        ano = login_user()\n",
    "        logged_in_user(ano)\n",
    "    else:\n",
    "        print(err_101)\n",
    "        \n",
    "main()"
   ]
  },
  {
   "cell_type": "code",
   "execution_count": null,
   "id": "07b9e136-e60c-4a8c-ba0c-5e5c7cb09bb2",
   "metadata": {},
   "outputs": [],
   "source": []
  }
 ],
 "metadata": {
  "kernelspec": {
   "display_name": "Python 3 (ipykernel)",
   "language": "python",
   "name": "python3"
  },
  "language_info": {
   "codemirror_mode": {
    "name": "ipython",
    "version": 3
   },
   "file_extension": ".py",
   "mimetype": "text/x-python",
   "name": "python",
   "nbconvert_exporter": "python",
   "pygments_lexer": "ipython3",
   "version": "3.12.4"
  }
 },
 "nbformat": 4,
 "nbformat_minor": 5
}
